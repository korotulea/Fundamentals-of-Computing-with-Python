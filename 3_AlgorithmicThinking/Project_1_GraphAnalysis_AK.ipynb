{
 "cells": [
  {
   "cell_type": "code",
   "execution_count": 1,
   "metadata": {
    "collapsed": true
   },
   "outputs": [],
   "source": [
    "\"\"\" Project 1: you will write Python code that creates dictionaries corresponding to some simple examples of graphs. \n",
    "You will also implement two short functions that compute information about the distribution \n",
    "of the in-degrees for nodes in these graphs. You will then use these functions in the Application \n",
    "component of Module 1 where you will analyze the degree distribution of a citation graph for \n",
    "a collection of physics papers. \"\"\"\n",
    "EX_GRAPH0 = {0: set([1, 2]), 1: set([]), 2: set([])}\n",
    "EX_GRAPH1 = {0: set([1, 4, 5]), 1: set([2, 6]), 2: set([3]), 3: set([0]), 4: set([1]), 5: set([2]), 6: set([])}\n",
    "EX_GRAPH2 = {0: set([1, 4, 5]), 1: set([2, 6]), 2: set([3, 7]), 3: set([7]), 4: set([1]), 5: set([2]), 6: set([]), \n",
    "             7: set([3]), 8: set([1, 2]), 9: set([0, 3, 4, 5, 6, 7])}\n"
   ]
  },
  {
   "cell_type": "code",
   "execution_count": 2,
   "metadata": {
    "collapsed": true
   },
   "outputs": [],
   "source": [
    "def make_complete_graph(num_nodes):\n",
    "    \"\"\" Takes the number of nodes num_nodes and returns a dictionary corresponding to a complete \n",
    "    directed graph with the specified number of nodes. \"\"\"\n",
    "    graph = {}\n",
    "    for nodes in range(num_nodes):\n",
    "        #print nodes\n",
    "        temp = range(num_nodes)\n",
    "        temp.remove(nodes)\n",
    "        graph[nodes] = set(temp)\n",
    "    return graph"
   ]
  },
  {
   "cell_type": "code",
   "execution_count": 3,
   "metadata": {
    "collapsed": true
   },
   "outputs": [],
   "source": [
    "def compute_in_degrees(digraph):\n",
    "    \"\"\"This function takes a directed graph digraph (represented as a dictionary) and computes \n",
    "    the in-degrees for the nodes in the graph. The function should return a dictionary with \n",
    "    the same set of keys (nodes) as digraph whose corresponding values are the number of edges \n",
    "    whose head matches a particular node.\n",
    "    \"\"\"\n",
    "    keys = digraph.keys()\n",
    "    degree = {}\n",
    "    #print keys\n",
    "    for nodes in keys:\n",
    "        #in_nodes = set()\n",
    "        in_nodes = 0\n",
    "        for nodes_tmp in keys:\n",
    "            if nodes in digraph[nodes_tmp]:\n",
    "                #print nodes, nodes_tmp, digraph[nodes_tmp]\n",
    "                #in_nodes.add(nodes_tmp) \n",
    "                in_nodes += 1\n",
    "        degree[nodes] = in_nodes\n",
    "    return degree"
   ]
  },
  {
   "cell_type": "code",
   "execution_count": 4,
   "metadata": {
    "collapsed": true
   },
   "outputs": [],
   "source": [
    "def in_degree_distribution(digraph):\n",
    "    \"\"\"This function takes a directed graph digraph (represented as a dictionary) and computes \n",
    "    the unnormalized distribution of the in-degrees of the graph. The function should return \n",
    "    a dictionary whose keys correspond to in-degrees of nodes in the graph. The value associated \n",
    "    with each particular in-degree is the number of nodes with that in-degree. In-degrees \n",
    "    with no corresponding nodes in the graph are not included in the dictionary.\n",
    "    \"\"\"\n",
    "    keys = digraph.keys()\n",
    "    degree_d = {}\n",
    "    #print keys\n",
    "    for nodes in keys:\n",
    "        #in_nodes = set()\n",
    "        in_nodes = 0\n",
    "        for nodes_tmp in keys:\n",
    "            if nodes in digraph[nodes_tmp]:\n",
    "                #print nodes, nodes_tmp, digraph[nodes_tmp]\n",
    "                #in_nodes.add(nodes_tmp) \n",
    "                in_nodes += 1\n",
    "        #if in_nodes != 0:\n",
    "        degree_d[nodes] = in_nodes\n",
    "    degree_distr = {}\n",
    "    for dic_keys in degree_d.values():\n",
    "        if dic_keys in degree_distr.keys():\n",
    "            degree_distr[dic_keys] += 1\n",
    "        else:\n",
    "            degree_distr[dic_keys] = 1 \n",
    "    return degree_distr\n"
   ]
  },
  {
   "cell_type": "code",
   "execution_count": 5,
   "metadata": {
    "collapsed": true
   },
   "outputs": [],
   "source": [
    "#print EX_GRAPH0\n",
    "#print EX_GRAPH1\n",
    "#print EX_GRAPH2"
   ]
  },
  {
   "cell_type": "code",
   "execution_count": 6,
   "metadata": {
    "collapsed": false
   },
   "outputs": [
    {
     "name": "stdout",
     "output_type": "stream",
     "text": [
      "{0: set([1, 2, 3]), 1: set([0, 2, 3]), 2: set([0, 1, 3]), 3: set([0, 1, 2])}\n",
      "{0: 0, 1: 1, 2: 1}\n",
      "{0: 1, 1: 2}\n",
      "{1: 5, 2: 2}\n"
     ]
    }
   ],
   "source": [
    "print make_complete_graph(4)\n",
    "print compute_in_degrees(EX_GRAPH0)\n",
    "print in_degree_distribution(EX_GRAPH0)\n",
    "print in_degree_distribution(EX_GRAPH1)"
   ]
  },
  {
   "cell_type": "code",
   "execution_count": null,
   "metadata": {
    "collapsed": true
   },
   "outputs": [],
   "source": []
  }
 ],
 "metadata": {
  "kernelspec": {
   "display_name": "Python 2",
   "language": "python",
   "name": "python2"
  },
  "language_info": {
   "codemirror_mode": {
    "name": "ipython",
    "version": 2
   },
   "file_extension": ".py",
   "mimetype": "text/x-python",
   "name": "python",
   "nbconvert_exporter": "python",
   "pygments_lexer": "ipython2",
   "version": "2.7.11"
  }
 },
 "nbformat": 4,
 "nbformat_minor": 0
}
