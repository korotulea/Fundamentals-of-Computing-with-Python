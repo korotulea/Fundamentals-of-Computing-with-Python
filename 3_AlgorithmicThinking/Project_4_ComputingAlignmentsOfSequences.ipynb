{
 "cells": [
  {
   "cell_type": "code",
   "execution_count": 1,
   "metadata": {
    "collapsed": false
   },
   "outputs": [
    {
     "data": {
      "text/plain": [
       "'\\nProject 4 - Computing alignments of sequences\\n'"
      ]
     },
     "execution_count": 1,
     "metadata": {},
     "output_type": "execute_result"
    }
   ],
   "source": [
    "\"\"\"\n",
    "Project 4 - Computing alignments of sequences\n",
    "\"\"\""
   ]
  },
  {
   "cell_type": "markdown",
   "metadata": {},
   "source": [
    "<h1>Project 4 - Computing alignments of sequences</h1>"
   ]
  },
  {
   "cell_type": "code",
   "execution_count": 2,
   "metadata": {
    "collapsed": false
   },
   "outputs": [],
   "source": [
    "\n",
    "def build_scoring_matrix(alphabet, diag_score, off_diag_score, dash_score): \n",
    "    \"\"\"This function takes as input a set of characters alphabet and three scores \n",
    "    diag_score, off_diag_score, and dash_score. The function returns a dictionary \n",
    "    of dictionaries whose entries are indexed by pairs of characters in alphabet plus '-'. \n",
    "    The score for any entry indexed by one or more dashes is dash_score. \n",
    "    The score for the remaining diagonal entries is diag_score. Finally, \n",
    "    the score for the remaining off-diagonal entries is off_diag_score.\n",
    "    \"\"\"\n",
    "    results = {}\n",
    "    alphabet_list = list(alphabet)\n",
    "    alphabet_list.append('-')\n",
    "    print alphabet_list\n",
    "    for letter1 in alphabet_list:\n",
    "        temp_dict = {}\n",
    "        for letter2 in alphabet_list:\n",
    "            if letter1 == letter2 and letter1 != '-':\n",
    "                temp_dict[letter2] = diag_score\n",
    "            elif letter1 == '-' or letter2 == '-':\n",
    "                temp_dict[letter2] = dash_score\n",
    "            else:\n",
    "                temp_dict[letter2] = off_diag_score\n",
    "        results[letter1] = temp_dict\n",
    "    return results\n",
    "#print build_scoring_matrix(set(['A', 'C', 'T', 'G']), 6, 2, -4)"
   ]
  },
  {
   "cell_type": "code",
   "execution_count": 3,
   "metadata": {
    "collapsed": true
   },
   "outputs": [],
   "source": [
    "#build_scoring_matrix(set(['A', 'C', 'T', 'G']), 6, 2, -4) \n",
    "#expected {'A': {'A': 6, 'C': 2, '-': -4, 'T': 2, 'G': 2}, \n",
    "#'C': {'A': 2, 'C': 6, '-': -4, 'T': 2, 'G': 2}, \n",
    "#'-': {'A': -4, 'C': -4, '-': -4, 'T': -4, 'G': -4}, \n",
    "#'T': {'A': 2, 'C': 2, '-': -4, 'T': 6, 'G': 2}, \n",
    "#'G': {'A': 2, 'C': 2, '-': -4, 'T': 2, 'G': 6}} \n"
   ]
  },
  {
   "cell_type": "code",
   "execution_count": 4,
   "metadata": {
    "collapsed": true
   },
   "outputs": [],
   "source": [
    "#The second function computes an alignment matrix using the method \n",
    "#ComputeGlobalAlignmentScores described in Homework 4. The function computes either \n",
    "#a global alignment matrix or a local alignment matrix depending on the value of global_flag.\n",
    "def compute_alignment_matrix(seq_x, seq_y, scoring_matrix, global_flag): \n",
    "    \"\"\"\n",
    "    This function takes as input two sequences seq_x and seq_y whose elements share \n",
    "    a common alphabet with the scoring matrix scoring_matrix. The function computes \n",
    "    and returns the alignment matrix for seq_x and seq_y as described in the Homework. \n",
    "    If global_flag is True, each entry of the alignment matrix is computed using \n",
    "    the method described in Question 8 of the Homework. If global_flag is False, \n",
    "    each entry is computed using the method described in Question 12 of the Homework.\n",
    "    \"\"\"\n",
    "    results = []\n",
    "    x_len = len(seq_x)\n",
    "    y_len = len(seq_y)\n",
    "    results.append([0])\n",
    "    # fill in the first column of the scoring matrix\n",
    "    for i_tmp in range(1, x_len + 1):\n",
    "        score_tmp = results[i_tmp - 1][0] + scoring_matrix[seq_x[i_tmp - 1]]['-']\n",
    "        # in case of score < 0 and falg is false (local score computing) the assign score is 0\n",
    "        if not global_flag and score_tmp < 0: \n",
    "            results.append([0])\n",
    "        else:\n",
    "            results.append([score_tmp])\n",
    "                        \n",
    "    # fill in the first row of the scoring matrix\n",
    "    for j_tmp in range(1, y_len + 1):\n",
    "        score_tmp = results[0][j_tmp - 1] + scoring_matrix['-'][seq_y[j_tmp - 1]]\n",
    "        # in case of score < 0 and falg is false (local score computing) the assign score is 0\n",
    "        if not global_flag and score_tmp < 0: \n",
    "            results[0].append(0)\n",
    "        else:\n",
    "            results[0].append(score_tmp)\n",
    "    # calculate the rest of the scoring matrix\n",
    "    for i_tmp in range(1, x_len + 1):\n",
    "        for j_tmp in range(1, y_len + 1):\n",
    "            score1 = results[i_tmp - 1][j_tmp - 1] + scoring_matrix[seq_x[i_tmp - 1]][seq_y[j_tmp - 1]]\n",
    "            score2 = results[i_tmp - 1][j_tmp] + scoring_matrix[seq_x[i_tmp - 1]]['-']\n",
    "            score3 = results[i_tmp][j_tmp - 1] + scoring_matrix['-'][seq_y[j_tmp - 1]]\n",
    "            score_max = max(score1, score2, score3)\n",
    "            # in case of max score < 0 and falg is false (local score computing) the assign score is 0\n",
    "            if not global_flag and score_max < 0:\n",
    "                results[i_tmp].append(0)\n",
    "            else:\n",
    "                results[i_tmp].append(score_max)\n",
    "                            \n",
    "    return results"
   ]
  },
  {
   "cell_type": "code",
   "execution_count": 5,
   "metadata": {
    "collapsed": false
   },
   "outputs": [
    {
     "data": {
      "text/plain": [
       "[[0, 0, 0, 0], [0, 6, 2, 2], [0, 2, 8, 4], [0, 2, 4, 14]]"
      ]
     },
     "execution_count": 5,
     "metadata": {},
     "output_type": "execute_result"
    }
   ],
   "source": [
    "compute_alignment_matrix('ATG', 'ACG', {'A': {'A': 6, 'C': 2, '-': -4, 'T': 2, 'G': 2}, \n",
    "                                        'C': {'A': 2, 'C': 6, '-': -4, 'T': 2, 'G': 2}, \n",
    "                                        '-': {'A': -4, 'C': -4, '-': -4, 'T': -4, 'G': -4}, \n",
    "                                        'T': {'A': 2, 'C': 2, '-': -4, 'T': 6, 'G': 2}, \n",
    "                                        'G': {'A': 2, 'C': 2, '-': -4, 'T': 2, 'G': 6}}, False)\n",
    "#expected [[0, -4, -8, -12], [-4, 6, 2, -2], [-8, 2, 8, 4], [-12, -2, 4, 14]] \n",
    "#         [[0, -4, -8, -12], [-4, 6, 2, -2], [-8, 2, 8, 4], [-12, -2, 4, 14]]"
   ]
  },
  {
   "cell_type": "code",
   "execution_count": 6,
   "metadata": {
    "collapsed": false
   },
   "outputs": [],
   "source": [
    "# The first function will implement the method ComputeAlignment discussed in Question 9 of \n",
    "# the Homework.\n",
    "def compute_global_alignment(seq_x, seq_y, scoring_matrix, alignment_matrix):\n",
    "    \"\"\"Takes as input two sequences seq_x and seq_y whose elements share a common \n",
    "    alphabet with the scoring matrix scoring_matrix. This function computes a global alignment \n",
    "    of seq_x and seq_y using the global alignment matrix alignment_matrix.\n",
    "    The function returns a tuple of the form (score, align_x, align_y) where score is \n",
    "    the score of the global alignment align_x and align_y. Note that align_x and align_y \n",
    "    should have the same length and may include the padding character '-'.\n",
    "    \"\"\"\n",
    "    score = 0\n",
    "    align_x = str()\n",
    "    align_y = str()\n",
    "    i_tmp = len(seq_x)\n",
    "    j_tmp = len(seq_y)\n",
    "    while i_tmp != 0 and j_tmp != 0:\n",
    "        if alignment_matrix[i_tmp][j_tmp] == alignment_matrix[i_tmp - 1][j_tmp - 1] + \\\n",
    "                                    scoring_matrix[seq_x[i_tmp - 1]][seq_y[j_tmp - 1]]:\n",
    "            align_x = seq_x[i_tmp - 1] + align_x\n",
    "            align_y = seq_y[j_tmp - 1] + align_y\n",
    "            i_tmp -= 1\n",
    "            j_tmp -= 1                                                                 \n",
    "        elif alignment_matrix[i_tmp][j_tmp] == alignment_matrix[i_tmp - 1][j_tmp] + \\\n",
    "                                    scoring_matrix[seq_x[i_tmp - 1]]['-']:\n",
    "            align_x = seq_x[i_tmp - 1] + align_x\n",
    "            align_y = '-' + align_y\n",
    "            i_tmp -= 1\n",
    "        else:\n",
    "            align_x = '-' + align_x\n",
    "            align_y = seq_y[j_tmp - 1] + align_y\n",
    "            j_tmp -= 1               \n",
    "    while i_tmp != 0:\n",
    "        align_x = seq_x[i_tmp - 1] + align_x\n",
    "        align_y = '-' + align_y\n",
    "        i_tmp -= 1\n",
    "    while j_tmp != 0:\n",
    "        align_x = '-' + align_x\n",
    "        align_y = seq_y[j_tmp - 1] + align_y\n",
    "        j_tmp -= 1\n",
    "    #calculate score for the final alignment    \n",
    "    for letter in range(len(align_x)):\n",
    "        score += scoring_matrix[align_x[letter]][align_y[letter]]\n",
    "    return (score, align_x, align_y)"
   ]
  },
  {
   "cell_type": "code",
   "execution_count": 7,
   "metadata": {
    "collapsed": false
   },
   "outputs": [
    {
     "data": {
      "text/plain": [
       "(6, 'A', 'A')"
      ]
     },
     "execution_count": 7,
     "metadata": {},
     "output_type": "execute_result"
    }
   ],
   "source": [
    "compute_global_alignment('A', 'A', {'A': {'A': 6, 'C': 2, '-': -4, 'T': 2, 'G': 2}, \n",
    "                                    'C': {'A': 2, 'C': 6, '-': -4, 'T': 2, 'G': 2}, \n",
    "                                    '-': {'A': -4, 'C': -4, '-': -4, 'T': -4, 'G': -4}, \n",
    "                                    'T': {'A': 2, 'C': 2, '-': -4, 'T': 6, 'G': 2}, \n",
    "                                    'G': {'A': 2, 'C': 2, '-': -4, 'T': 2, 'G': 6}}, \n",
    "                         [[0, -4], [-4, 6]])  \n",
    "#returned incorrect score, expected 6"
   ]
  },
  {
   "cell_type": "code",
   "execution_count": 8,
   "metadata": {
    "collapsed": false
   },
   "outputs": [],
   "source": [
    "# This second function will compute an optimal local alignment starting at \n",
    "# the maximum entry of the local alignment matrix and working backwards to \n",
    "# zero as described in Question 13 of the Homework.\n",
    "def compute_local_alignment(seq_x, seq_y, scoring_matrix, alignment_matrix):\n",
    "    \"\"\"\n",
    "    This function takes as input two sequences seq_x and seq_y whose elements share \n",
    "    a common alphabet with the scoring matrix scoring_matrix. This function computes \n",
    "    a local alignment of seq_x and seq_y using the local alignment matrix alignment_matrix.\n",
    "    The function returns a tuple of the form (score, align_x, align_y) where score is \n",
    "    the score of the optimal local alignment align_x and align_y. Note that align_x and align_y \n",
    "    should have the same length and may include the padding character '-'.\n",
    "    \"\"\"\n",
    "    score = 0\n",
    "    align_x = str()\n",
    "    align_y = str()\n",
    "    idx = (0, 0, 0)\n",
    "    #print 'len a_m', len(alignment_matrix)\n",
    "    for idx_i in range(len(alignment_matrix)):\n",
    "        max_val = max(alignment_matrix[idx_i])\n",
    "        idx_j = alignment_matrix[idx_i].index(max_val)\n",
    "        if idx[0] <= max_val:\n",
    "            idx = (max_val, idx_i, idx_j)\n",
    "    #print 'idx', idx\n",
    "    i_tmp = idx[1]\n",
    "    j_tmp = idx[2]\n",
    "    #print i_tmp, j_tmp\n",
    "    #print 'a_m', alignment_matrix[i_tmp][j_tmp]\n",
    "    while alignment_matrix[i_tmp][j_tmp] != 0:\n",
    "        #print 'a_m', alignment_matrix[i_tmp][j_tmp]\n",
    "        if alignment_matrix[i_tmp][j_tmp] == alignment_matrix[i_tmp - 1][j_tmp - 1] + \\\n",
    "                                    scoring_matrix[seq_x[i_tmp - 1]][seq_y[j_tmp - 1]]:\n",
    "            align_x = seq_x[i_tmp - 1] + align_x\n",
    "            align_y = seq_y[j_tmp - 1] + align_y\n",
    "            i_tmp -= 1\n",
    "            j_tmp -= 1                                                                 \n",
    "        elif alignment_matrix[i_tmp][j_tmp] == alignment_matrix[i_tmp - 1][j_tmp] + \\\n",
    "                                    scoring_matrix[seq_x[i_tmp - 1]]['-']:\n",
    "            align_x = seq_x[i_tmp - 1] + align_x\n",
    "            align_y = '-' + align_y\n",
    "            i_tmp -= 1\n",
    "        else:\n",
    "            align_x = '-' + align_x\n",
    "            align_y = seq_y[j_tmp - 1] + align_y\n",
    "            j_tmp -= 1         \n",
    "    for letter in range(len(align_x)):\n",
    "        #print scoring_matrix[align_x[letter]][align_y[letter]]\n",
    "        score += scoring_matrix[align_x[letter]][align_y[letter]]\n",
    "    return (score, align_x, align_y)"
   ]
  },
  {
   "cell_type": "code",
   "execution_count": 9,
   "metadata": {
    "collapsed": false
   },
   "outputs": [
    {
     "data": {
      "text/plain": [
       "(6, 'A', 'A')"
      ]
     },
     "execution_count": 9,
     "metadata": {},
     "output_type": "execute_result"
    }
   ],
   "source": [
    "compute_local_alignment('A', 'A', {'A': {'A': 6, 'C': 2, '-': -4, 'T': 2, 'G': 2}, \n",
    "                                   'C': {'A': 2, 'C': 6, '-': -4, 'T': 2, 'G': 2}, \n",
    "                                   '-': {'A': -4, 'C': -4, '-': -4, 'T': -4, 'G': -4}, \n",
    "                                   'T': {'A': 2, 'C': 2, '-': -4, 'T': 6, 'G': 2}, \n",
    "           \n",
    "                                   'G': {'A': 2, 'C': 2, '-': -4, 'T': 2, 'G': 6}}, \n",
    "                        [[0, 0], [0, 6]])\n",
    "#expected score 6"
   ]
  },
  {
   "cell_type": "code",
   "execution_count": 10,
   "metadata": {
    "collapsed": false
   },
   "outputs": [
    {
     "data": {
      "text/plain": [
       "(22, 'AAAA-CCCCAAAA', 'AAAAGTCCCAAAC')"
      ]
     },
     "execution_count": 10,
     "metadata": {},
     "output_type": "execute_result"
    }
   ],
   "source": [
    "compute_local_alignment('AAAACCCCAAAA', 'AAAAGTCCCAAAC', \n",
    "                        {'A': {'A': 2, 'C': 1, '-': 0, 'T': 1, 'G': 1}, \n",
    "                         'C': {'A': 1, 'C': 2, '-': 0, 'T': 1, 'G': 1}, \n",
    "                         '-': {'A': 0, 'C': 0, '-': 0, 'T': 0, 'G': 0}, \n",
    "                         'T': {'A': 1, 'C': 1, '-': 0, 'T': 2, 'G': 1}, \n",
    "                         'G': {'A': 1, 'C': 1, '-': 0, 'T': 1, 'G': 2}}, \n",
    "                        [[0, 0, 0, 0, 0, 0, 0, 0, 0, 0, 0, 0, 0, 0], \n",
    "                         [0, 2, 2, 2, 2, 2, 2, 2, 2, 2, 2, 2, 2, 2], \n",
    "                         [0, 2, 4, 4, 4, 4, 4, 4, 4, 4, 4, 4, 4, 4], \n",
    "                         [0, 2, 4, 6, 6, 6, 6, 6, 6, 6, 6, 6, 6, 6], \n",
    "                         [0, 2, 4, 6, 8, 8, 8, 8, 8, 8, 8, 8, 8, 8], \n",
    "                         [0, 2, 4, 6, 8, 9, 9, 10, 10, 10, 10, 10, 10, 10], \n",
    "                         [0, 2, 4, 6, 8, 9, 10, 11, 12, 12, 12, 12, 12, 12], \n",
    "                         [0, 2, 4, 6, 8, 9, 10, 12, 13, 14, 14, 14, 14, 14], \n",
    "                         [0, 2, 4, 6, 8, 9, 10, 12, 14, 15, 15, 15, 15, 16], \n",
    "                         [0, 2, 4, 6, 8, 9, 10, 12, 14, 15, 17, 17, 17, 17], \n",
    "                         [0, 2, 4, 6, 8, 9, 10, 12, 14, 15, 17, 19, 19, 19], \n",
    "                         [0, 2, 4, 6, 8, 9, 10, 12, 14, 15, 17, 19, 21, 21], \n",
    "                         [0, 2, 4, 6, 8, 9, 10, 12, 14, 15, 17, 19, 21, 22]])\n",
    "#expected score 22"
   ]
  },
  {
   "cell_type": "markdown",
   "metadata": {},
   "source": [
    "#Application 4 - Applications to genomics and beyond"
   ]
  },
  {
   "cell_type": "code",
   "execution_count": 11,
   "metadata": {
    "collapsed": true
   },
   "outputs": [],
   "source": [
    "import random\n",
    "import urllib2\n",
    "import matplotlib.pyplot as plt\n",
    "#if DESKTOP:\n",
    "#    import matplotlib.pyplot as plt\n",
    "#    import alg_project4_solution as student\n",
    "#else:\n",
    "#    import simpleplot\n",
    "#    import userXX_XXXXXXX as student\n",
    "    \n",
    "\n",
    "# URLs for data files\n",
    "PAM50 = \"alg_PAM50.txt\"\n",
    "HUMAN_EYELESS = \"alg_HumanEyelessProtein.txt\"\n",
    "FRUITFLY_EYELESS = \"alg_FruitflyEyelessProtein.txt\"\n",
    "CONSENSUS_PAX = \"alg_ConsensusPAXDomain.txt\"\n",
    "WORD_LIST = \"assets_scrabble_words3.txt\"\n",
    "\n",
    "\n",
    "\n",
    "###############################################\n",
    "# provided code\n",
    "\n",
    "def read_scoring_matrix(filename):\n",
    "    \"\"\"\n",
    "    Read a scoring matrix from the file named filename.  \n",
    "\n",
    "    Argument:\n",
    "    filename -- name of file containing a scoring matrix\n",
    "\n",
    "    Returns:\n",
    "    A dictionary of dictionaries mapping X and Y characters to scores\n",
    "    \"\"\"\n",
    "    scoring_dict = {}\n",
    "    scoring_file = open(filename)\n",
    "    ykeys = scoring_file.readline()\n",
    "    ykeychars = ykeys.split()\n",
    "    for line in scoring_file.readlines():\n",
    "        vals = line.split()\n",
    "        xkey = vals.pop(0)\n",
    "        scoring_dict[xkey] = {}\n",
    "        for ykey, val in zip(ykeychars, vals):\n",
    "            scoring_dict[xkey][ykey] = int(val)\n",
    "    return scoring_dict\n",
    "\n",
    "\n",
    "\n",
    "\n",
    "def read_protein(filename):\n",
    "    \"\"\"\n",
    "    Read a protein sequence from the file named filename.\n",
    "\n",
    "    Arguments:\n",
    "    filename -- name of file containing a protein sequence\n",
    "\n",
    "    Returns:\n",
    "    A string representing the protein\n",
    "    \"\"\"\n",
    "    protein_file = open(filename)\n",
    "    protein_seq = protein_file.read()\n",
    "    protein_seq = protein_seq.rstrip()\n",
    "    return protein_seq\n",
    "\n",
    "\n",
    "def read_words(filename):\n",
    "    \"\"\"\n",
    "    Load word list from the file named filename.\n",
    "\n",
    "    Returns a list of strings.\n",
    "    \"\"\"\n",
    "    # load assets\n",
    "    word_file = open(filename)\n",
    "    \n",
    "    # read in files as string\n",
    "    words = word_file.read()\n",
    "    \n",
    "    # template lines and solution lines list of line string\n",
    "    word_list = words.split('\\n')\n",
    "    print \"Loaded a dictionary with\", len(word_list), \"words\"\n",
    "    return word_list\n",
    "\n"
   ]
  },
  {
   "cell_type": "markdown",
   "metadata": {},
   "source": [
    "<h1>Question 1 (2 pts)</h1>\n",
    "<p>First, load the files HumanEyelessProtein and FruitflyEyelessProtein using the provided code. These files contain the amino acid sequences that form the eyeless proteins in the human and fruit fly genomes, respectively. Then load the scoring matrix PAM50 for sequences of amino acids.</p>\n",
    "<p>Next, compute the local alignments of the sequences of HumanEyelessProtein and FruitflyEyelessProtein using the PAM50 scoring matrix and enter the score and local alignments for these two sequences below. Be sure to clearly distinguish which alignment is which and include any dashes ('-') that might appear in the local alignment. </p>"
   ]
  },
  {
   "cell_type": "code",
   "execution_count": 12,
   "metadata": {
    "collapsed": false
   },
   "outputs": [],
   "source": [
    "HumanEyelessProtein = read_protein(HUMAN_EYELESS)\n",
    "FruitflyEyelessProtein = read_protein(FRUITFLY_EYELESS)\n",
    "pam50_scoring = read_scoring_matrix(PAM50)"
   ]
  },
  {
   "cell_type": "code",
   "execution_count": 13,
   "metadata": {
    "collapsed": false
   },
   "outputs": [
    {
     "name": "stdout",
     "output_type": "stream",
     "text": [
      "MQNSHSGVNQLGGVFVNGRPLPDSTRQKIVELAHSGARPCDISRILQVSNGCVSKILGRYYETGSIRPRAIGGSKPRVATPEVVSKIAQYKRECPSIFAWEIRDRLLSEGVCTNDNIPSVSSINRVLRNLASEKQQMGADGMYDKLRMLNGQTGSWGTRPGWYPGTSVPGQPTQDGCQQQEGGGENTNSISSNGEDSDEAQMRLQLKRKLQRNRTSFTQEQIEALEKEFERTHYPDVFARERLAAKIDLPEARIQVWFSNRRAKWRREEKLRNQRRQASNTPSHIPISSSFSTSVYQPIPQPTTPVSSFTSGSMLGRTDTALTNTYSALPPMPSFTMANNLPMQPPVPSQTSSYSCMLPTSPSVNGRSYDTYTPPHMQTHMNSQPMGTSGTTSTGLISPGVSVPVQVPGSEPDMSQYWPRLQ\n",
      "MRNLPCLGTAGGSGLGGIAGKPSPTMEAVEASTASHPHSTSSYFATTYYHLTDDECHSGVNQLGGVFVGGRPLPDSTRQKIVELAHSGARPCDISRILQVSNGCVSKILGRYYETGSIRPRAIGGSKPRVATAEVVSKISQYKRECPSIFAWEIRDRLLQENVCTNDNIPSVSSINRVLRNLAAQKEQQSTGSGSSSTSAGNSISAKVSVSIGGNVSNVASGSRGTLSSSTDLMQTATPLNSSESGGASNSGEGSEQEAIYEKLRLLNTQHAAGPGPLEPARAAPLVGQSPNHLGTRSSHPQLVHGNHQALQQHQQQSWPPRHYSGSWYPTSLSEIPISSAPNIASVTAYASGPSLAHSLSPPNDIESLASIGHQRNCPVATEDIHLKKELDGHQSDETGSGEGENSNGGASNIGNTEDDQARLILKRKLQRNRTSFTNDQIDSLEKEFERTHYPDVFARERLAGKIGLPEARIQVWFSNRRAKWRREEKLRNQRRTPNSTGASATSSSTSATASLTDSPNSLSACSSLLSGSAGGPSVSTINGLSSPSTLSTNVNAPTLGAGIDSSESPTPIPHIRPSCTSDNDNGRQSEDCRRVCSPCPLGVGGHQNTHHIQSNGHAQGHALVPAISPRLNFNSGSFGAMYSNMHHTALSMSDSYGAVTPIPSFNHSAVGPLAPPSPIPQQGDLTPSSLYPCHMTLRPPPMAPAHHHIVPGDGGRPAGVGLGSGQSANLGASCSGSGYEVLSAYALPPPPMASSSAADSSFSAASSASANVTPHHTIAQESCPSPCSSASHFGVAHSSGFSSDPISPAVSSYAHMSYNYASSANTMTPSSASGTSAHVAPGKQQFFASCFYSPWV\n",
      "{'-': {'-': -100, 'A': -5, 'C': -5, 'B': -5, 'E': -5, 'D': -5, 'G': -5, 'F': -5, 'I': -5, 'H': -5, 'K': -5, 'M': -5, 'L': -5, 'N': -5, 'Q': -5, 'P': -5, 'S': -5, 'R': -5, 'T': -5, 'W': -5, 'V': -5, 'Y': -5, 'X': -5, 'Z': -5}, 'A': {'-': -5, 'A': 5, 'C': -5, 'B': -2, 'E': -1, 'D': -2, 'G': -1, 'F': -7, 'I': -3, 'H': -5, 'K': -5, 'M': -4, 'L': -5, 'N': -2, 'Q': -3, 'P': 0, 'S': 0, 'R': -5, 'T': 0, 'W': -11, 'V': -1, 'Y': -6, 'X': -2, 'Z': -2}, 'C': {'-': -5, 'A': -5, 'C': 9, 'B': -9, 'E': -11, 'D': -11, 'G': -7, 'F': -10, 'I': -5, 'H': -6, 'K': -11, 'M': -11, 'L': -12, 'N': -8, 'Q': -11, 'P': -6, 'S': -2, 'R': -6, 'T': -6, 'W': -13, 'V': -5, 'Y': -3, 'X': -7, 'Z': -11}, 'B': {'-': -5, 'A': -2, 'C': -9, 'B': 5, 'E': 2, 'D': 6, 'G': -2, 'F': -9, 'I': -5, 'H': 0, 'K': -1, 'M': -7, 'L': -7, 'N': 5, 'Q': -2, 'P': -5, 'S': -1, 'R': -5, 'T': -2, 'W': -8, 'V': -6, 'Y': -5, 'X': -3, 'Z': 1}, 'E': {'-': -5, 'A': -1, 'C': -11, 'B': 2, 'E': 7, 'D': 3, 'G': -3, 'F': -11, 'I': -4, 'H': -3, 'K': -3, 'M': -5, 'L': -7, 'N': -1, 'Q': 2, 'P': -4, 'S': -3, 'R': -7, 'T': -4, 'W': -13, 'V': -5, 'Y': -7, 'X': -3, 'Z': 6}, 'D': {'-': -5, 'A': -2, 'C': -11, 'B': 6, 'E': 3, 'D': 7, 'G': -2, 'F': -12, 'I': -6, 'H': -2, 'K': -3, 'M': -8, 'L': -10, 'N': 2, 'Q': -1, 'P': -6, 'S': -2, 'R': -7, 'T': -3, 'W': -12, 'V': -6, 'Y': -9, 'X': -4, 'Z': 2}, 'G': {'-': -5, 'A': -1, 'C': -7, 'B': -2, 'E': -3, 'D': -2, 'G': 6, 'F': -8, 'I': -8, 'H': -7, 'K': -6, 'M': -7, 'L': -9, 'N': -2, 'Q': -5, 'P': -4, 'S': -1, 'R': -7, 'T': -4, 'W': -12, 'V': -4, 'Y': -11, 'X': -4, 'Z': -4}, 'F': {'-': -5, 'A': -7, 'C': -10, 'B': -9, 'E': -11, 'D': -12, 'G': -8, 'F': 9, 'I': -1, 'H': -5, 'K': -11, 'M': -3, 'L': -1, 'N': -7, 'Q': -10, 'P': -8, 'S': -5, 'R': -8, 'T': -7, 'W': -3, 'V': -6, 'Y': 3, 'X': -6, 'Z': -11}, 'I': {'-': -5, 'A': -3, 'C': -5, 'B': -5, 'E': -4, 'D': -6, 'G': -8, 'F': -1, 'I': 8, 'H': -7, 'K': -5, 'M': 0, 'L': 0, 'N': -4, 'Q': -6, 'P': -7, 'S': -5, 'R': -4, 'T': -1, 'W': -11, 'V': 3, 'Y': -5, 'X': -3, 'Z': -5}, 'H': {'-': -5, 'A': -5, 'C': -6, 'B': 0, 'E': -3, 'D': -2, 'G': -7, 'F': -5, 'I': -7, 'H': 9, 'K': -4, 'M': -8, 'L': -5, 'N': 1, 'Q': 2, 'P': -3, 'S': -4, 'R': 0, 'T': -5, 'W': -6, 'V': -5, 'Y': -2, 'X': -4, 'Z': 0}, 'K': {'-': -5, 'A': -5, 'C': -11, 'B': -1, 'E': -3, 'D': -3, 'G': -6, 'F': -11, 'I': -5, 'H': -4, 'K': 6, 'M': -1, 'L': -6, 'N': 0, 'Q': -2, 'P': -5, 'S': -3, 'R': 1, 'T': -2, 'W': -9, 'V': -7, 'Y': -8, 'X': -4, 'Z': -2}, 'M': {'-': -5, 'A': -4, 'C': -11, 'B': -7, 'E': -5, 'D': -8, 'G': -7, 'F': -3, 'I': 0, 'H': -8, 'K': -1, 'M': 10, 'L': 2, 'N': -6, 'Q': -3, 'P': -6, 'S': -4, 'R': -3, 'T': -3, 'W': -10, 'V': 0, 'Y': -8, 'X': -4, 'Z': -4}, 'L': {'-': -5, 'A': -5, 'C': -12, 'B': -7, 'E': -7, 'D': -10, 'G': -9, 'F': -1, 'I': 0, 'H': -5, 'K': -6, 'M': 2, 'L': 6, 'N': -6, 'Q': -4, 'P': -6, 'S': -7, 'R': -7, 'T': -5, 'W': -5, 'V': -1, 'Y': -5, 'X': -5, 'Z': -5}, 'N': {'-': -5, 'A': -2, 'C': -8, 'B': 5, 'E': -1, 'D': 2, 'G': -2, 'F': -7, 'I': -4, 'H': 1, 'K': 0, 'M': -6, 'L': -6, 'N': 7, 'Q': -2, 'P': -4, 'S': 1, 'R': -4, 'T': -1, 'W': -7, 'V': -6, 'Y': -3, 'X': -2, 'Z': -1}, 'Q': {'-': -5, 'A': -3, 'C': -11, 'B': -2, 'E': 2, 'D': -1, 'G': -5, 'F': -10, 'I': -6, 'H': 2, 'K': -2, 'M': -3, 'L': -4, 'N': -2, 'Q': 8, 'P': -2, 'S': -4, 'R': 0, 'T': -4, 'W': -10, 'V': -5, 'Y': -9, 'X': -3, 'Z': 6}, 'P': {'-': -5, 'A': 0, 'C': -6, 'B': -5, 'E': -4, 'D': -6, 'G': -4, 'F': -8, 'I': -7, 'H': -3, 'K': -5, 'M': -6, 'L': -6, 'N': -4, 'Q': -2, 'P': 8, 'S': -1, 'R': -3, 'T': -3, 'W': -11, 'V': -4, 'Y': -11, 'X': -4, 'Z': -3}, 'S': {'-': -5, 'A': 0, 'C': -2, 'B': -1, 'E': -3, 'D': -2, 'G': -1, 'F': -5, 'I': -5, 'H': -4, 'K': -3, 'M': -4, 'L': -7, 'N': 1, 'Q': -4, 'P': -1, 'S': 6, 'R': -2, 'T': 1, 'W': -4, 'V': -4, 'Y': -5, 'X': -2, 'Z': -3}, 'R': {'-': -5, 'A': -5, 'C': -6, 'B': -5, 'E': -7, 'D': -7, 'G': -7, 'F': -8, 'I': -4, 'H': 0, 'K': 1, 'M': -3, 'L': -7, 'N': -4, 'Q': 0, 'P': -3, 'S': -2, 'R': 8, 'T': -5, 'W': -1, 'V': -6, 'Y': -8, 'X': -4, 'Z': -2}, 'T': {'-': -5, 'A': 0, 'C': -6, 'B': -2, 'E': -4, 'D': -3, 'G': -4, 'F': -7, 'I': -1, 'H': -5, 'K': -2, 'M': -3, 'L': -5, 'N': -1, 'Q': -4, 'P': -3, 'S': 1, 'R': -5, 'T': 6, 'W': -10, 'V': -2, 'Y': -5, 'X': -2, 'Z': -4}, 'W': {'-': -5, 'A': -11, 'C': -13, 'B': -8, 'E': -13, 'D': -12, 'G': -12, 'F': -3, 'I': -11, 'H': -6, 'K': -9, 'M': -10, 'L': -5, 'N': -7, 'Q': -10, 'P': -11, 'S': -4, 'R': -1, 'T': -10, 'W': 13, 'V': -12, 'Y': -4, 'X': -9, 'Z': -11}, 'V': {'-': -5, 'A': -1, 'C': -5, 'B': -6, 'E': -5, 'D': -6, 'G': -4, 'F': -6, 'I': 3, 'H': -5, 'K': -7, 'M': 0, 'L': -1, 'N': -6, 'Q': -5, 'P': -4, 'S': -4, 'R': -6, 'T': -2, 'W': -12, 'V': 7, 'Y': -6, 'X': -3, 'Z': -5}, 'Y': {'-': -5, 'A': -6, 'C': -3, 'B': -5, 'E': -7, 'D': -9, 'G': -11, 'F': 3, 'I': -5, 'H': -2, 'K': -8, 'M': -8, 'L': -5, 'N': -3, 'Q': -9, 'P': -11, 'S': -5, 'R': -8, 'T': -5, 'W': -4, 'V': -6, 'Y': 9, 'X': -6, 'Z': -8}, 'X': {'-': -5, 'A': -2, 'C': -7, 'B': -3, 'E': -3, 'D': -4, 'G': -4, 'F': -6, 'I': -3, 'H': -4, 'K': -4, 'M': -4, 'L': -5, 'N': -2, 'Q': -3, 'P': -4, 'S': -2, 'R': -4, 'T': -2, 'W': -9, 'V': -3, 'Y': -6, 'X': -4, 'Z': -3}, 'Z': {'-': -5, 'A': -2, 'C': -11, 'B': 1, 'E': 6, 'D': 2, 'G': -4, 'F': -11, 'I': -5, 'H': 0, 'K': -2, 'M': -4, 'L': -5, 'N': -1, 'Q': 6, 'P': -3, 'S': -3, 'R': -2, 'T': -4, 'W': -11, 'V': -5, 'Y': -8, 'X': -3, 'Z': 6}}\n"
     ]
    }
   ],
   "source": [
    "print HumanEyelessProtein\n",
    "print FruitflyEyelessProtein\n",
    "print pam50_scoring"
   ]
  },
  {
   "cell_type": "code",
   "execution_count": 14,
   "metadata": {
    "collapsed": false
   },
   "outputs": [
    {
     "name": "stdout",
     "output_type": "stream",
     "text": [
      "(875, 'HSGVNQLGGVFVNGRPLPDSTRQKIVELAHSGARPCDISRILQVSNGCVSKILGRYYETGSIRPRAIGGSKPRVATPEVVSKIAQYKRECPSIFAWEIRDRLLSEGVCTNDNIPSVSSINRVLRNLASEK-QQ', 'HSGVNQLGGVFVGGRPLPDSTRQKIVELAHSGARPCDISRILQVSNGCVSKILGRYYETGSIRPRAIGGSKPRVATAEVVSKISQYKRECPSIFAWEIRDRLLQENVCTNDNIPSVSSINRVLRNLAAQKEQQ') 133 133\n"
     ]
    }
   ],
   "source": [
    "# computing local alignment matrix\n",
    "l_a_matrix = compute_alignment_matrix(HumanEyelessProtein, FruitflyEyelessProtein, \n",
    "                                      pam50_scoring, False)\n",
    "# computing local alignment\n",
    "l_alignment = compute_local_alignment(HumanEyelessProtein, FruitflyEyelessProtein, \n",
    "                                      pam50_scoring, l_a_matrix)\n",
    "print l_alignment, len(l_alignment[1]), len(l_alignment[2])"
   ]
  },
  {
   "cell_type": "markdown",
   "metadata": {},
   "source": [
    "<b>Question 2 (2 pts)</b>\n",
    "<p>We next consider the similarity of the two sequences in the local alignment computed in Question 1 to a third sequence. The file ConsensusPAXDomain contains a \"consensus\" sequence of the PAX domain; that is, the sequence of amino acids in the PAX domain in any organism. In this problem, we will compare each of the two sequences of the local alignment computed in Question 1 to this consensus sequence to determine whether they correspond to the PAX domain.</p>\n",
    "<p>Load the file ConsensusPAXDomain. For each of the two sequences of the local alignment computed in Question 1, do the following:</p>\n",
    "<uo>\n",
    "<li>Delete any dashes '-' present in the sequence.</li> \n",
    "<li>Compute the global alignment of this dash-less sequence with the ConsensusPAXDomain sequence.</li>\n",
    "<li>Compare corresponding elements of these two globally-aligned sequences (local vs. consensus) and compute the percentage of elements in these two sequences that agree.</li>\n",
    "<uo>\n",
    "<p>To reiterate, you will compute the global alignments of local human vs. consensus PAX domain as well as local fruitfly vs. consensus PAX domain. Your answer should be two percentages: one for each global alignment. Enter each percentage below. Be sure to label each answer clearly and include three significant digits of precision.</p>\n"
   ]
  },
  {
   "cell_type": "code",
   "execution_count": 15,
   "metadata": {
    "collapsed": false
   },
   "outputs": [
    {
     "name": "stdout",
     "output_type": "stream",
     "text": [
      "GHGGVNQLGGVFVNGRPLPDVVRQRIVELAHQGVRPCDISRQLRVSHGCVSKILGRYYETGSIKPGVIGGSKPKVATPKVVEKIAEYKRQNPTMFAWEIRDRLLAERVCDNDTVPSVSSINRIIR\n"
     ]
    }
   ],
   "source": [
    "ConsensusPAXDomain = read_protein(CONSENSUS_PAX)\n",
    "print ConsensusPAXDomain"
   ]
  },
  {
   "cell_type": "code",
   "execution_count": 16,
   "metadata": {
    "collapsed": false
   },
   "outputs": [
    {
     "data": {
      "text/plain": [
       "'GHGGVNQLGGVFVNGRPLPDVVRQRIVELAHQGVRPCDISRQLRVSHGCVSKILGRYYETGSIKPGVIGGSKPKVATPKVVEKIAEYKRQNPTMFAWEIRDRLLAERVCDNDTVPSVSSINRIIR'"
      ]
     },
     "execution_count": 16,
     "metadata": {},
     "output_type": "execute_result"
    }
   ],
   "source": [
    "ConsensusPAXDomain"
   ]
  },
  {
   "cell_type": "code",
   "execution_count": 17,
   "metadata": {
    "collapsed": false
   },
   "outputs": [],
   "source": [
    "def get_rid_dash(sequence):\n",
    "    \"\"\"\n",
    "    This function delete any dashes '-' present in the sequence\n",
    "    \"\"\"\n",
    "    new_sequence = str()\n",
    "    for letter in sequence:\n",
    "        if letter != '-':\n",
    "            new_sequence += letter\n",
    "    return new_sequence"
   ]
  },
  {
   "cell_type": "code",
   "execution_count": 18,
   "metadata": {
    "collapsed": true
   },
   "outputs": [],
   "source": [
    "h_l_alignment = l_alignment[1]\n",
    "f_l_alignment = l_alignment[2]"
   ]
  },
  {
   "cell_type": "code",
   "execution_count": 19,
   "metadata": {
    "collapsed": true
   },
   "outputs": [],
   "source": [
    "h_l_alignment_noDash = get_rid_dash(h_l_alignment)\n",
    "f_l_alignment_noDash = get_rid_dash(f_l_alignment)"
   ]
  },
  {
   "cell_type": "code",
   "execution_count": 20,
   "metadata": {
    "collapsed": false
   },
   "outputs": [
    {
     "name": "stdout",
     "output_type": "stream",
     "text": [
      "HSGVNQLGGVFVNGRPLPDSTRQKIVELAHSGARPCDISRILQVSNGCVSKILGRYYETGSIRPRAIGGSKPRVATPEVVSKIAQYKRECPSIFAWEIRDRLLSEGVCTNDNIPSVSSINRVLRNLASEK-QQ\n",
      "HSGVNQLGGVFVNGRPLPDSTRQKIVELAHSGARPCDISRILQVSNGCVSKILGRYYETGSIRPRAIGGSKPRVATPEVVSKIAQYKRECPSIFAWEIRDRLLSEGVCTNDNIPSVSSINRVLRNLASEKQQ\n",
      "HSGVNQLGGVFVGGRPLPDSTRQKIVELAHSGARPCDISRILQVSNGCVSKILGRYYETGSIRPRAIGGSKPRVATAEVVSKISQYKRECPSIFAWEIRDRLLQENVCTNDNIPSVSSINRVLRNLAAQKEQQ\n",
      "HSGVNQLGGVFVGGRPLPDSTRQKIVELAHSGARPCDISRILQVSNGCVSKILGRYYETGSIRPRAIGGSKPRVATAEVVSKISQYKRECPSIFAWEIRDRLLQENVCTNDNIPSVSSINRVLRNLAAQKEQQ\n"
     ]
    }
   ],
   "source": [
    "print h_l_alignment\n",
    "print h_l_alignment_noDash\n",
    "print f_l_alignment\n",
    "print f_l_alignment_noDash"
   ]
  },
  {
   "cell_type": "code",
   "execution_count": 57,
   "metadata": {
    "collapsed": true
   },
   "outputs": [],
   "source": [
    "def alignment_agreement(seq1, seq2):\n",
    "    \"\"\"\n",
    "    Compare corresponding elements of these two sequences and compute \n",
    "    the percentage of elements in these two sequences that agree.\n",
    "    \"\"\"\n",
    "    counter = 0\n",
    "    for indx in range(len(seq1)):\n",
    "        if seq1[indx] == seq2[indx] and seq1[indx] != '-':\n",
    "            #print seq1[indx]\n",
    "            counter += 1\n",
    "    return 100.0 * counter / len(seq2)"
   ]
  },
  {
   "cell_type": "code",
   "execution_count": 58,
   "metadata": {
    "collapsed": false
   },
   "outputs": [
    {
     "name": "stdout",
     "output_type": "stream",
     "text": [
      "alignment_agreement(seq_1, seq_2) 90.0\n",
      "alignment_agreement(seq_1, seq_3) 80.0\n",
      "alignment_agreement(seq_3, seq_4) 80.0\n"
     ]
    }
   ],
   "source": [
    "# test alignment agreement\n",
    "seq_1 = 'HGVNQLGGVF'\n",
    "seq_2 = 'SGVNQLGGVF'\n",
    "print 'alignment_agreement(seq_1, seq_2)', alignment_agreement(seq_1, seq_2)\n",
    "seq_3 = '--VNQLGGVF'\n",
    "print 'alignment_agreement(seq_1, seq_3)', alignment_agreement(seq_1, seq_3)\n",
    "seq_4 = '-GVNQLGGVF'\n",
    "print 'alignment_agreement(seq_3, seq_4)', alignment_agreement(seq_3, seq_4)"
   ]
  },
  {
   "cell_type": "code",
   "execution_count": 59,
   "metadata": {
    "collapsed": false
   },
   "outputs": [
    {
     "name": "stdout",
     "output_type": "stream",
     "text": [
      "h_g_alignment_agree = 72.9323308271\n",
      "(613, '-HSGVNQLGGVFVNGRPLPDSTRQKIVELAHSGARPCDISRILQVSNGCVSKILGRYYETGSIRPRAIGGSKPRVATPEVVSKIAQYKRECPSIFAWEIRDRLLSEGVCTNDNIPSVSSINRVLRNLASEKQQ', 'GHGGVNQLGGVFVNGRPLPDVVRQRIVELAHQGVRPCDISRQLRVSHGCVSKILGRYYETGSIKPGVIGGSKPKVATPKVVEKIAEYKRQNPTMFAWEIRDRLLAERVCDNDTVPSVSSINRIIR--------')\n"
     ]
    }
   ],
   "source": [
    "# computing human consensus global alignment matrix\n",
    "h_g_a_matrix = compute_alignment_matrix(h_l_alignment_noDash, ConsensusPAXDomain, \n",
    "                                      pam50_scoring, True)\n",
    "# computing human consensus global alignment\n",
    "h_g_alignment = compute_global_alignment(h_l_alignment_noDash, ConsensusPAXDomain, \n",
    "                                      pam50_scoring, h_g_a_matrix)\n",
    "# computing the percentage of elements in human consensus global alignment that agree\n",
    "h_g_alignment_agree = alignment_agreement(h_g_alignment[1], h_g_alignment[2])\n",
    "\n",
    "print \"h_g_alignment_agree =\", h_g_alignment_agree\n",
    "print h_g_alignment"
   ]
  },
  {
   "cell_type": "code",
   "execution_count": 60,
   "metadata": {
    "collapsed": false
   },
   "outputs": [
    {
     "name": "stdout",
     "output_type": "stream",
     "text": [
      "f_g_alignment_agree = 70.1492537313\n",
      "(586, '-HSGVNQLGGVFVGGRPLPDSTRQKIVELAHSGARPCDISRILQVSNGCVSKILGRYYETGSIRPRAIGGSKPRVATAEVVSKISQYKRECPSIFAWEIRDRLLQENVCTNDNIPSVSSINRVLRNLAAQKEQQ', 'GHGGVNQLGGVFVNGRPLPDVVRQRIVELAHQGVRPCDISRQLRVSHGCVSKILGRYYETGSIKPGVIGGSKPKVATPKVVEKIAEYKRQNPTMFAWEIRDRLLAERVCDNDTVPSVSSINRIIR---------')\n"
     ]
    }
   ],
   "source": [
    "# computing fruitfly consensus global alignment matrix\n",
    "f_g_a_matrix = compute_alignment_matrix(f_l_alignment_noDash, ConsensusPAXDomain, \n",
    "                                      pam50_scoring, True)\n",
    "# computing fruitfly consensus global alignment\n",
    "f_g_alignment = compute_global_alignment(f_l_alignment_noDash, ConsensusPAXDomain, \n",
    "                                      pam50_scoring, f_g_a_matrix)\n",
    "# computing the percentage of elements in fruitfly consensus global alignment that agree\n",
    "f_g_alignment_agree = alignment_agreement(f_g_alignment[1], f_g_alignment[2])\n",
    "\n",
    "print \"f_g_alignment_agree =\", f_g_alignment_agree\n",
    "print f_g_alignment"
   ]
  },
  {
   "cell_type": "code",
   "execution_count": 25,
   "metadata": {
    "collapsed": false
   },
   "outputs": [
    {
     "name": "stdout",
     "output_type": "stream",
     "text": [
      "4.33230434783\n"
     ]
    }
   ],
   "source": [
    "import random\n",
    "seq_tmp = 'ACBEDGFIHKMLNQPSRTWVYXZ'\n",
    "results = []\n",
    "for i in range(100000):\n",
    "    seq_tmp_1 = seq_tmp\n",
    "    seq_tmp_2 = seq_tmp\n",
    "    l_1 = list(seq_tmp_1)\n",
    "    random.shuffle(l_1)\n",
    "    seq_tmp_1_s = ''.join(l_1)\n",
    "    l_2 = list(seq_tmp_2)\n",
    "    random.shuffle(l_2)\n",
    "    seq_tmp_2_s = ''.join(l_2)    \n",
    "    results.append(alignment_agreement(seq_tmp_1_s, seq_tmp_2_s))\n",
    "print sum(results)/len(results)"
   ]
  },
  {
   "cell_type": "markdown",
   "metadata": {},
   "source": [
    "<b>Question 4 (2 pts)</b>\n",
    "<p>Write a function generate_null_distribution(seq_x, seq_y, scoring_matrix, num_trials) that takes as input two sequences seq_x and seq_y, a scoring matrix scoring_matrix, and a number of trials num_trials. This function should return a dictionary scoring_distribution that represents an un-normalized distribution generated by performing the following process num_trials times:<p>\n",
    "<uo>\n",
    "<li>Generate a random permutation rand_y of the sequence seq_y using random.shuffle().</li>\n",
    "<li>Compute the maximum value score for the local alignment of seq_x and rand_y using the score matrix scoring_matrix.</li>\n",
    "<li>Increment the entry score in the dictionary scoring_distribution by one.</li>"
   ]
  },
  {
   "cell_type": "code",
   "execution_count": 26,
   "metadata": {
    "collapsed": true
   },
   "outputs": [],
   "source": [
    "def generate_null_distribution(seq_x, seq_y, scoring_matrix, num_trials): \n",
    "    \"\"\"\n",
    "    This function takes as input two sequences seq_x and seq_y, a scoring_matrix, \n",
    "    and a number of trials num_trials. This function returns a dictionary \n",
    "    scoring_distribution that represents an un-normalized distribution generated \n",
    "    by performing the following process num_trials times:\n",
    "    - Generate a random permutation rand_y of the sequence seq_y using random.shuffle()\n",
    "    - Compute the maximum value score for the local alignment of seq_x and rand_y using \n",
    "      the score matrix scoring_matrix.\n",
    "    - Increment the entry score in the dictionary scoring_distribution by one.\n",
    "    \"\"\"\n",
    "    results = {}\n",
    "    for trial in range(num_trials):\n",
    "        seq_y_tmp = seq_y\n",
    "        l_y1 = list(seq_y_tmp)\n",
    "        random.shuffle(l_y1)\n",
    "        seq_y_tmp_s = ''.join(l_y1)\n",
    "        # computing local alignment matrix\n",
    "        l_matrix = compute_alignment_matrix(seq_x, seq_y_tmp_s, \n",
    "                                      scoring_matrix, False)\n",
    "        # computing local alignment\n",
    "        l_align = compute_local_alignment(seq_x, seq_y_tmp_s, \n",
    "                                      scoring_matrix, l_matrix)\n",
    "        #print l_align\n",
    "        results[trial + 1] = l_align[0] \n",
    "    return results"
   ]
  },
  {
   "cell_type": "code",
   "execution_count": 27,
   "metadata": {
    "collapsed": false
   },
   "outputs": [],
   "source": [
    "distr_h_f_10tr = generate_null_distribution(HumanEyelessProtein, \n",
    "                                            FruitflyEyelessProtein, pam50_scoring, 10)"
   ]
  },
  {
   "cell_type": "code",
   "execution_count": 28,
   "metadata": {
    "collapsed": false
   },
   "outputs": [
    {
     "name": "stdout",
     "output_type": "stream",
     "text": [
      "{1: 54, 2: 53, 3: 53, 4: 48, 5: 68, 6: 49, 7: 47, 8: 46, 9: 47, 10: 72}\n"
     ]
    }
   ],
   "source": [
    "print distr_h_f_10tr"
   ]
  },
  {
   "cell_type": "code",
   "execution_count": 29,
   "metadata": {
    "collapsed": true
   },
   "outputs": [],
   "source": [
    "distr_h_f_1000tr = generate_null_distribution(HumanEyelessProtein, \n",
    "                                            FruitflyEyelessProtein, pam50_scoring, 1000)"
   ]
  },
  {
   "cell_type": "code",
   "execution_count": 30,
   "metadata": {
    "collapsed": false
   },
   "outputs": [
    {
     "data": {
      "image/png": "[encoded data removed]",
      "text/plain": [
       "<matplotlib.figure.Figure at 0x106076c50>"
      ]
     },
     "metadata": {},
     "output_type": "display_data"
    }
   ],
   "source": [
    "import matplotlib.pyplot as plt\n",
    "%matplotlib inline\n",
    "\n",
    "scores = distr_h_f_1000tr.values()\n",
    "n, bins, patches = plt.hist(scores, 50, normed=1)"
   ]
  },
  {
   "cell_type": "code",
   "execution_count": 31,
   "metadata": {
    "collapsed": true
   },
   "outputs": [],
   "source": [
    "distr_h_f_1000tr_new = generate_null_distribution(HumanEyelessProtein, \n",
    "                                            FruitflyEyelessProtein, pam50_scoring, 1000)"
   ]
  },
  {
   "cell_type": "code",
   "execution_count": 32,
   "metadata": {
    "collapsed": false
   },
   "outputs": [
    {
     "data": {
      "image/png": "[encoded data removed]",
      "text/plain": [
       "<matplotlib.figure.Figure at 0x106076d50>"
      ]
     },
     "metadata": {},
     "output_type": "display_data"
    }
   ],
   "source": [
    "scores_new = distr_h_f_1000tr_new.values()\n",
    "plt.hist(scores_new, 40, normed=1)\n",
    "plt.xlim([30, 90])\n",
    "plt.ylim([0, .14])\n",
    "#plt.legend(loc='upper left')\n",
    "plt.title('Normalized distribution of the maximum value scores for \\n the local alignments of HumanEyelessProtein and \\n a random FruitflyEyelessProtein')\n",
    "plt.xlabel('Local alignment score')\n",
    "plt.ylabel('The fraction of total trials')\n",
    "plt.grid(True)\n",
    "plt.savefig('p4a1.png')"
   ]
  },
  {
   "cell_type": "code",
   "execution_count": 47,
   "metadata": {
    "collapsed": false
   },
   "outputs": [
    {
     "name": "stdout",
     "output_type": "stream",
     "text": [
      "[(47, 76), (49, 73), (48, 70), (51, 68), (46, 65), (52, 64), (53, 56), (54, 55), (45, 48), (50, 45), (55, 42), (44, 39), (56, 34), (58, 31), (42, 30), (43, 28), (57, 24), (59, 19), (60, 17), (61, 16), (63, 14), (41, 11), (64, 11), (62, 10), (70, 7), (66, 6), (40, 5), (65, 5), (68, 4), (72, 4), (77, 4), (38, 3), (67, 3), (69, 3), (71, 2), (73, 2), (36, 1), (74, 1), (76, 1), (78, 1), (80, 1), (86, 1)]\n",
      "(36, 38, 40, 41, 42, 43, 44, 45, 46, 47, 48, 49, 50, 51, 52, 53, 54, 55, 56, 57, 58, 59, 60, 61, 62, 63, 64, 65, 66, 67, 68, 69, 70, 71, 72, 73, 74, 76, 77, 78, 80, 86)\n",
      "(1, 3, 5, 11, 30, 28, 39, 48, 65, 76, 70, 73, 45, 68, 64, 56, 55, 42, 34, 24, 31, 19, 17, 16, 10, 14, 11, 5, 6, 3, 4, 3, 7, 2, 4, 2, 1, 1, 4, 1, 1, 1)\n",
      "[0.001, 0.003, 0.005, 0.011, 0.03, 0.028, 0.039, 0.048, 0.065, 0.076, 0.07, 0.073, 0.045, 0.068, 0.064, 0.056, 0.055, 0.042, 0.034, 0.024, 0.031, 0.019, 0.017, 0.016, 0.01, 0.014, 0.011, 0.005, 0.006, 0.003, 0.004, 0.003, 0.007, 0.002, 0.004, 0.002, 0.001, 0.001, 0.004, 0.001, 0.001, 0.001]\n"
     ]
    }
   ],
   "source": [
    "#calculate norm distribution\n",
    "from collections import Counter\n",
    "counted_distr = Counter(distr_h_f_1000tr_new.values()).most_common()\n",
    "print counted_distr\n",
    "x_val, y_val = zip(*sorted(counted_distr))\n",
    "print x_val\n",
    "print y_val\n",
    "y_val_norm = [val / 1000.0 for val in y_val]\n",
    "print y_val_norm\n"
   ]
  },
  {
   "cell_type": "code",
   "execution_count": 56,
   "metadata": {
    "collapsed": false
   },
   "outputs": [
    {
     "data": {
      "image/png": "[encoded data removed]",
      "text/plain": [
       "<matplotlib.figure.Figure at 0x10a469310>"
      ]
     },
     "metadata": {},
     "output_type": "display_data"
    }
   ],
   "source": [
    "# plot bar\n",
    "plt.bar(x_val, y_val_norm, width=1, align='center', color=\"blue\")\n",
    "plt.xlim([30, 90])\n",
    "plt.ylim([0, .08])\n",
    "#plt.legend(loc='upper left')\n",
    "plt.title('Normalized distribution of the maximum value scores for \\n the local alignments of HumanEyelessProtein and \\n a random FruitflyEyelessProtein')\n",
    "plt.xlabel('Local alignment score')\n",
    "plt.ylabel('The fraction of total trials')\n",
    "plt.grid(True)\n",
    "plt.savefig('p4a1_ver2.png')"
   ]
  },
  {
   "cell_type": "code",
   "execution_count": 33,
   "metadata": {
    "collapsed": false
   },
   "outputs": [
    {
     "name": "stdout",
     "output_type": "stream",
     "text": [
      "mean = 51.496\n",
      "standard deviation = 6.76490827728\n",
      "Z-score range: -2.29064450911 to 5.10043870305\n"
     ]
    }
   ],
   "source": [
    "import numpy as np\n",
    "from scipy import stats\n",
    "\n",
    "mean_1000 = np.mean(distr_h_f_1000tr_new.values())\n",
    "print 'mean =', mean_1000\n",
    "std_100 = np.std(distr_h_f_1000tr_new.values())\n",
    "print 'standard deviation =', std_100\n",
    "z_score = stats.zscore(distr_h_f_1000tr_new.values())\n",
    "print 'Z-score range:', min(z_score), 'to', max(z_score)"
   ]
  },
  {
   "cell_type": "code",
   "execution_count": 34,
   "metadata": {
    "collapsed": false
   },
   "outputs": [
    {
     "name": "stdout",
     "output_type": "stream",
     "text": [
      "['a', 'b', 'c', 'd', 'e', 'f', 'g', 'h', 'i', 'j', 'k', 'l', 'm', 'n', 'o', 'p', 'q', 'r', 's', 't', 'u', 'v', 'w', 'x', 'y', 'z', '-']\n",
      "{'-': {'-': 0, 'a': 0, 'c': 0, 'b': 0, 'e': 0, 'd': 0, 'g': 0, 'f': 0, 'i': 0, 'h': 0, 'k': 0, 'j': 0, 'm': 0, 'l': 0, 'o': 0, 'n': 0, 'q': 0, 'p': 0, 's': 0, 'r': 0, 'u': 0, 't': 0, 'w': 0, 'v': 0, 'y': 0, 'x': 0, 'z': 0}, 'a': {'-': 0, 'a': 2, 'c': 1, 'b': 1, 'e': 1, 'd': 1, 'g': 1, 'f': 1, 'i': 1, 'h': 1, 'k': 1, 'j': 1, 'm': 1, 'l': 1, 'o': 1, 'n': 1, 'q': 1, 'p': 1, 's': 1, 'r': 1, 'u': 1, 't': 1, 'w': 1, 'v': 1, 'y': 1, 'x': 1, 'z': 1}, 'c': {'-': 0, 'a': 1, 'c': 2, 'b': 1, 'e': 1, 'd': 1, 'g': 1, 'f': 1, 'i': 1, 'h': 1, 'k': 1, 'j': 1, 'm': 1, 'l': 1, 'o': 1, 'n': 1, 'q': 1, 'p': 1, 's': 1, 'r': 1, 'u': 1, 't': 1, 'w': 1, 'v': 1, 'y': 1, 'x': 1, 'z': 1}, 'b': {'-': 0, 'a': 1, 'c': 1, 'b': 2, 'e': 1, 'd': 1, 'g': 1, 'f': 1, 'i': 1, 'h': 1, 'k': 1, 'j': 1, 'm': 1, 'l': 1, 'o': 1, 'n': 1, 'q': 1, 'p': 1, 's': 1, 'r': 1, 'u': 1, 't': 1, 'w': 1, 'v': 1, 'y': 1, 'x': 1, 'z': 1}, 'e': {'-': 0, 'a': 1, 'c': 1, 'b': 1, 'e': 2, 'd': 1, 'g': 1, 'f': 1, 'i': 1, 'h': 1, 'k': 1, 'j': 1, 'm': 1, 'l': 1, 'o': 1, 'n': 1, 'q': 1, 'p': 1, 's': 1, 'r': 1, 'u': 1, 't': 1, 'w': 1, 'v': 1, 'y': 1, 'x': 1, 'z': 1}, 'd': {'-': 0, 'a': 1, 'c': 1, 'b': 1, 'e': 1, 'd': 2, 'g': 1, 'f': 1, 'i': 1, 'h': 1, 'k': 1, 'j': 1, 'm': 1, 'l': 1, 'o': 1, 'n': 1, 'q': 1, 'p': 1, 's': 1, 'r': 1, 'u': 1, 't': 1, 'w': 1, 'v': 1, 'y': 1, 'x': 1, 'z': 1}, 'g': {'-': 0, 'a': 1, 'c': 1, 'b': 1, 'e': 1, 'd': 1, 'g': 2, 'f': 1, 'i': 1, 'h': 1, 'k': 1, 'j': 1, 'm': 1, 'l': 1, 'o': 1, 'n': 1, 'q': 1, 'p': 1, 's': 1, 'r': 1, 'u': 1, 't': 1, 'w': 1, 'v': 1, 'y': 1, 'x': 1, 'z': 1}, 'f': {'-': 0, 'a': 1, 'c': 1, 'b': 1, 'e': 1, 'd': 1, 'g': 1, 'f': 2, 'i': 1, 'h': 1, 'k': 1, 'j': 1, 'm': 1, 'l': 1, 'o': 1, 'n': 1, 'q': 1, 'p': 1, 's': 1, 'r': 1, 'u': 1, 't': 1, 'w': 1, 'v': 1, 'y': 1, 'x': 1, 'z': 1}, 'i': {'-': 0, 'a': 1, 'c': 1, 'b': 1, 'e': 1, 'd': 1, 'g': 1, 'f': 1, 'i': 2, 'h': 1, 'k': 1, 'j': 1, 'm': 1, 'l': 1, 'o': 1, 'n': 1, 'q': 1, 'p': 1, 's': 1, 'r': 1, 'u': 1, 't': 1, 'w': 1, 'v': 1, 'y': 1, 'x': 1, 'z': 1}, 'h': {'-': 0, 'a': 1, 'c': 1, 'b': 1, 'e': 1, 'd': 1, 'g': 1, 'f': 1, 'i': 1, 'h': 2, 'k': 1, 'j': 1, 'm': 1, 'l': 1, 'o': 1, 'n': 1, 'q': 1, 'p': 1, 's': 1, 'r': 1, 'u': 1, 't': 1, 'w': 1, 'v': 1, 'y': 1, 'x': 1, 'z': 1}, 'k': {'-': 0, 'a': 1, 'c': 1, 'b': 1, 'e': 1, 'd': 1, 'g': 1, 'f': 1, 'i': 1, 'h': 1, 'k': 2, 'j': 1, 'm': 1, 'l': 1, 'o': 1, 'n': 1, 'q': 1, 'p': 1, 's': 1, 'r': 1, 'u': 1, 't': 1, 'w': 1, 'v': 1, 'y': 1, 'x': 1, 'z': 1}, 'j': {'-': 0, 'a': 1, 'c': 1, 'b': 1, 'e': 1, 'd': 1, 'g': 1, 'f': 1, 'i': 1, 'h': 1, 'k': 1, 'j': 2, 'm': 1, 'l': 1, 'o': 1, 'n': 1, 'q': 1, 'p': 1, 's': 1, 'r': 1, 'u': 1, 't': 1, 'w': 1, 'v': 1, 'y': 1, 'x': 1, 'z': 1}, 'm': {'-': 0, 'a': 1, 'c': 1, 'b': 1, 'e': 1, 'd': 1, 'g': 1, 'f': 1, 'i': 1, 'h': 1, 'k': 1, 'j': 1, 'm': 2, 'l': 1, 'o': 1, 'n': 1, 'q': 1, 'p': 1, 's': 1, 'r': 1, 'u': 1, 't': 1, 'w': 1, 'v': 1, 'y': 1, 'x': 1, 'z': 1}, 'l': {'-': 0, 'a': 1, 'c': 1, 'b': 1, 'e': 1, 'd': 1, 'g': 1, 'f': 1, 'i': 1, 'h': 1, 'k': 1, 'j': 1, 'm': 1, 'l': 2, 'o': 1, 'n': 1, 'q': 1, 'p': 1, 's': 1, 'r': 1, 'u': 1, 't': 1, 'w': 1, 'v': 1, 'y': 1, 'x': 1, 'z': 1}, 'o': {'-': 0, 'a': 1, 'c': 1, 'b': 1, 'e': 1, 'd': 1, 'g': 1, 'f': 1, 'i': 1, 'h': 1, 'k': 1, 'j': 1, 'm': 1, 'l': 1, 'o': 2, 'n': 1, 'q': 1, 'p': 1, 's': 1, 'r': 1, 'u': 1, 't': 1, 'w': 1, 'v': 1, 'y': 1, 'x': 1, 'z': 1}, 'n': {'-': 0, 'a': 1, 'c': 1, 'b': 1, 'e': 1, 'd': 1, 'g': 1, 'f': 1, 'i': 1, 'h': 1, 'k': 1, 'j': 1, 'm': 1, 'l': 1, 'o': 1, 'n': 2, 'q': 1, 'p': 1, 's': 1, 'r': 1, 'u': 1, 't': 1, 'w': 1, 'v': 1, 'y': 1, 'x': 1, 'z': 1}, 'q': {'-': 0, 'a': 1, 'c': 1, 'b': 1, 'e': 1, 'd': 1, 'g': 1, 'f': 1, 'i': 1, 'h': 1, 'k': 1, 'j': 1, 'm': 1, 'l': 1, 'o': 1, 'n': 1, 'q': 2, 'p': 1, 's': 1, 'r': 1, 'u': 1, 't': 1, 'w': 1, 'v': 1, 'y': 1, 'x': 1, 'z': 1}, 'p': {'-': 0, 'a': 1, 'c': 1, 'b': 1, 'e': 1, 'd': 1, 'g': 1, 'f': 1, 'i': 1, 'h': 1, 'k': 1, 'j': 1, 'm': 1, 'l': 1, 'o': 1, 'n': 1, 'q': 1, 'p': 2, 's': 1, 'r': 1, 'u': 1, 't': 1, 'w': 1, 'v': 1, 'y': 1, 'x': 1, 'z': 1}, 's': {'-': 0, 'a': 1, 'c': 1, 'b': 1, 'e': 1, 'd': 1, 'g': 1, 'f': 1, 'i': 1, 'h': 1, 'k': 1, 'j': 1, 'm': 1, 'l': 1, 'o': 1, 'n': 1, 'q': 1, 'p': 1, 's': 2, 'r': 1, 'u': 1, 't': 1, 'w': 1, 'v': 1, 'y': 1, 'x': 1, 'z': 1}, 'r': {'-': 0, 'a': 1, 'c': 1, 'b': 1, 'e': 1, 'd': 1, 'g': 1, 'f': 1, 'i': 1, 'h': 1, 'k': 1, 'j': 1, 'm': 1, 'l': 1, 'o': 1, 'n': 1, 'q': 1, 'p': 1, 's': 1, 'r': 2, 'u': 1, 't': 1, 'w': 1, 'v': 1, 'y': 1, 'x': 1, 'z': 1}, 'u': {'-': 0, 'a': 1, 'c': 1, 'b': 1, 'e': 1, 'd': 1, 'g': 1, 'f': 1, 'i': 1, 'h': 1, 'k': 1, 'j': 1, 'm': 1, 'l': 1, 'o': 1, 'n': 1, 'q': 1, 'p': 1, 's': 1, 'r': 1, 'u': 2, 't': 1, 'w': 1, 'v': 1, 'y': 1, 'x': 1, 'z': 1}, 't': {'-': 0, 'a': 1, 'c': 1, 'b': 1, 'e': 1, 'd': 1, 'g': 1, 'f': 1, 'i': 1, 'h': 1, 'k': 1, 'j': 1, 'm': 1, 'l': 1, 'o': 1, 'n': 1, 'q': 1, 'p': 1, 's': 1, 'r': 1, 'u': 1, 't': 2, 'w': 1, 'v': 1, 'y': 1, 'x': 1, 'z': 1}, 'w': {'-': 0, 'a': 1, 'c': 1, 'b': 1, 'e': 1, 'd': 1, 'g': 1, 'f': 1, 'i': 1, 'h': 1, 'k': 1, 'j': 1, 'm': 1, 'l': 1, 'o': 1, 'n': 1, 'q': 1, 'p': 1, 's': 1, 'r': 1, 'u': 1, 't': 1, 'w': 2, 'v': 1, 'y': 1, 'x': 1, 'z': 1}, 'v': {'-': 0, 'a': 1, 'c': 1, 'b': 1, 'e': 1, 'd': 1, 'g': 1, 'f': 1, 'i': 1, 'h': 1, 'k': 1, 'j': 1, 'm': 1, 'l': 1, 'o': 1, 'n': 1, 'q': 1, 'p': 1, 's': 1, 'r': 1, 'u': 1, 't': 1, 'w': 1, 'v': 2, 'y': 1, 'x': 1, 'z': 1}, 'y': {'-': 0, 'a': 1, 'c': 1, 'b': 1, 'e': 1, 'd': 1, 'g': 1, 'f': 1, 'i': 1, 'h': 1, 'k': 1, 'j': 1, 'm': 1, 'l': 1, 'o': 1, 'n': 1, 'q': 1, 'p': 1, 's': 1, 'r': 1, 'u': 1, 't': 1, 'w': 1, 'v': 1, 'y': 2, 'x': 1, 'z': 1}, 'x': {'-': 0, 'a': 1, 'c': 1, 'b': 1, 'e': 1, 'd': 1, 'g': 1, 'f': 1, 'i': 1, 'h': 1, 'k': 1, 'j': 1, 'm': 1, 'l': 1, 'o': 1, 'n': 1, 'q': 1, 'p': 1, 's': 1, 'r': 1, 'u': 1, 't': 1, 'w': 1, 'v': 1, 'y': 1, 'x': 2, 'z': 1}, 'z': {'-': 0, 'a': 1, 'c': 1, 'b': 1, 'e': 1, 'd': 1, 'g': 1, 'f': 1, 'i': 1, 'h': 1, 'k': 1, 'j': 1, 'm': 1, 'l': 1, 'o': 1, 'n': 1, 'q': 1, 'p': 1, 's': 1, 'r': 1, 'u': 1, 't': 1, 'w': 1, 'v': 1, 'y': 1, 'x': 1, 'z': 2}}\n"
     ]
    }
   ],
   "source": [
    "import string\n",
    "alphabet = string.ascii_lowercase\n",
    "diag_score = 2\n",
    "off_diag_score = 1 \n",
    "dash_score = 0\n",
    "NEW_SCORING = build_scoring_matrix(alphabet, diag_score, off_diag_score, dash_score)\n",
    "print NEW_SCORING"
   ]
  },
  {
   "cell_type": "code",
   "execution_count": 35,
   "metadata": {
    "collapsed": false
   },
   "outputs": [
    {
     "name": "stdout",
     "output_type": "stream",
     "text": [
      "Loaded a dictionary with 79340 words\n"
     ]
    }
   ],
   "source": [
    "w_list = read_words(WORD_LIST)"
   ]
  },
  {
   "cell_type": "markdown",
   "metadata": {},
   "source": [
    "<b>Question 8 (2 pts)</b>\n",
    "<p>In practice, edit distance is a useful tool in applications such as spelling correction and plagiarism detection where determining whether two strings are similar/dissimilar is important. For this final question, we will implement a simple spelling correction function that uses edit distance to determine whether a given string is the misspelling of a word.</p>\n",
    "<p>To begin, load this list of 79339 words. Then, write a function check_spelling(checked_word, dist, word_list) that iterates through word_list and returns the set of all words that are within edit distance dist of the string checked_word.</p>\n",
    "<p>Use your function check_spelling to compute the set of words within an edit distance of one from the string \"humble\" and the set of words within an edit distance of two from the string \"firefly\". (Note this is not \"fruitfly\".)</p>\n",
    "<p>Enter these two sets of words in the box below. As quick check, both sets should include eleven words.</p>"
   ]
  },
  {
   "cell_type": "code",
   "execution_count": 36,
   "metadata": {
    "collapsed": true
   },
   "outputs": [],
   "source": [
    "def check_spelling(checked_word, dist, word_list):\n",
    "    \"\"\"\n",
    "    This function iterates through word_list and returns the set of all \n",
    "    words that are within edit distance dist of the string checked_word.\n",
    "    \"\"\"\n",
    "    results = []\n",
    "    for word in word_list:\n",
    "        # computing global alignment matrix\n",
    "        g_a_m = compute_alignment_matrix(checked_word, word, \n",
    "                                      NEW_SCORING, True)\n",
    "        # computing global alignment\n",
    "        g_alignment = compute_global_alignment(checked_word, word, \n",
    "                                      NEW_SCORING, g_a_m)\n",
    "        dist_tmp = abs(len(checked_word) + len(word) - g_alignment[0])\n",
    "        #print word, dist_tmp\n",
    "        if dist_tmp <= dist:\n",
    "            results.append(word)\n",
    "    return results"
   ]
  },
  {
   "cell_type": "code",
   "execution_count": 37,
   "metadata": {
    "collapsed": false
   },
   "outputs": [
    {
     "name": "stdout",
     "output_type": "stream",
     "text": [
      "List of words within an edit distance of one from humble : \n",
      "['bumble', 'fumble', 'humble', 'humbled', 'humbler', 'humbles', 'humbly', 'jumble', 'mumble', 'rumble', 'tumble']\n"
     ]
    }
   ],
   "source": [
    "word1 = 'humble'\n",
    "word1_list = check_spelling(word1, 1, w_list)\n",
    "print 'List of words within an edit distance of one from', word1, ': \\n', word1_list"
   ]
  },
  {
   "cell_type": "code",
   "execution_count": 38,
   "metadata": {
    "collapsed": false
   },
   "outputs": [
    {
     "name": "stdout",
     "output_type": "stream",
     "text": [
      "List of words within an edit distance of one from firefly : \n",
      "['direly', 'finely', 'fireclay', 'firefly', 'firmly', 'firstly', 'fixedly', 'freely', 'liefly', 'refly', 'tiredly']\n"
     ]
    }
   ],
   "source": [
    "word2 = 'firefly'\n",
    "word2_list = check_spelling(word2, 2, w_list)\n",
    "print 'List of words within an edit distance of one from', word2, ': \\n', word2_list"
   ]
  }
 ],
 "metadata": {
  "kernelspec": {
   "display_name": "Python 2",
   "language": "python",
   "name": "python2"
  },
  "language_info": {
   "codemirror_mode": {
    "name": "ipython",
    "version": 2
   },
   "file_extension": ".py",
   "mimetype": "text/x-python",
   "name": "python",
   "nbconvert_exporter": "python",
   "pygments_lexer": "ipython2",
   "version": "2.7.11"
  }
 },
 "nbformat": 4,
 "nbformat_minor": 0
}
